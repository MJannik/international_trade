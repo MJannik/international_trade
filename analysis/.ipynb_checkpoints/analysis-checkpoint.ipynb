{
 "cells": [
  {
   "cell_type": "code",
   "execution_count": null,
   "metadata": {},
   "outputs": [],
   "source": [
    "import pandas as pd\n",
    "import numpy as np\n",
    "import statsmodels\n",
    "import statsmodels.formula.api as sm\n",
    "import country_converter as coco\n",
    "import matplotlib.pyplot as plt\n",
    "from statsmodels.compat import lzip\n",
    "import statsmodels.api as sm\n",
    "from statsmodels.formula.api import ols\n",
    "import seaborn as sns\n",
    "from sklearn.linear_model import LinearRegression"
   ]
  },
  {
   "cell_type": "code",
   "execution_count": null,
   "metadata": {},
   "outputs": [],
   "source": [
    "# Internet Access Source: ITU\n",
    "internet_access =  pd.read_csv('~/Documents/Uni/international_trade/data/internet_access_itu.csv')\n",
    "internet_access['COU'] = internet_access.Country.apply(lambda x: coco.convert(names=x, to='ISO3', not_found=None))\n",
    "internet_access = internet_access.drop('Country', axis=1)\n",
    "internet_access = pd.melt(internet_access, id_vars=['COU'], var_name=\"year\", value_name=\"internet_access\")\n",
    "internet_access['year'] = internet_access['year'].str[:4]\n",
    "internet_access['COU_year'] = internet_access['COU'] + \"_\" + internet_access['year']"
   ]
  },
  {
   "cell_type": "code",
   "execution_count": null,
   "metadata": {
    "scrolled": true
   },
   "outputs": [],
   "source": [
    "# Service Trade Data\n",
    "servicetrade_data =  pd.read_csv('~/Documents/Uni/international_trade/data/service_trade.csv')\n",
    "servicetrade_data = servicetrade_data.rename(columns = {'Value':'service_trade'})\n",
    "servicetrade_data['Year'] = servicetrade_data['Year'].map(str) #Int to string\n",
    "servicetrade_data['PAR_year'] = servicetrade_data['PAR'] + \"_\" + servicetrade_data['Year']\n",
    "servicetrade_data = servicetrade_data[servicetrade_data['SER'] == \"S\"]\n",
    "servicetrade_data = servicetrade_data[servicetrade_data['MEASURE'] == \"USD\"]\n",
    "servicetrade_data = servicetrade_data[servicetrade_data['EXP'] == \"NET\"]\n",
    "servicetrade_data['service_trade'] = servicetrade_data['service_trade'].abs()"
   ]
  },
  {
   "cell_type": "code",
   "execution_count": null,
   "metadata": {},
   "outputs": [],
   "source": [
    "# Time Zones\n",
    "tz_data =  pd.read_csv('~/Documents/Uni/international_trade/data/tz_data.csv')\n",
    "tz_data['tz'] = tz_data['tz'].str[1:]\n",
    "tz_data['tz'] = tz_data['tz'].str[:2]\n",
    "tz_data['tz'] = tz_data['tz'].map(int)\n",
    "tz_data = tz_data.groupby(['COU'])['tz'].min()"
   ]
  },
  {
   "cell_type": "code",
   "execution_count": null,
   "metadata": {},
   "outputs": [],
   "source": [
    "# Wage data ILU\n",
    "average_wages = pd.read_csv('~/Documents/Uni/international_trade/data/average_wages_ilu.csv')\n",
    "average_wages['COU'] = average_wages.Country.apply(lambda x: coco.convert(names=x, to='ISO3', not_found=None))\n",
    "average_wages['year'] = average_wages['year'].map(str)\n",
    "average_wages['COU_year'] = average_wages['COU'] + \"_\" + average_wages['year']"
   ]
  },
  {
   "cell_type": "code",
   "execution_count": null,
   "metadata": {},
   "outputs": [],
   "source": [
    "# English Prof Data\n",
    "ef_score =  pd.read_csv('~/Documents/Uni/international_trade/data/ef_score.csv')\n",
    "ef_score = ef_score[['Country', '2020 Score', 'Rank']]\n",
    "ef_score = ef_score.rename(columns = {'Country':'Partner'})\n",
    "ef_score = ef_score.rename(columns = {'2020 Score':'ef_score'})\n",
    "ef_score['Partner'] = ef_score['Partner'].str[1:]"
   ]
  },
  {
   "cell_type": "code",
   "execution_count": null,
   "metadata": {},
   "outputs": [],
   "source": [
    "trade_uk_data = servicetrade_data[servicetrade_data['Country'] == \"United Kingdom\"]\n",
    "trade_uk_data = trade_uk_data[['COU','Country', 'Service', 'Measure','PAR', 'Partner','PowerCode', 'service_trade', 'Year', 'PAR_year']]"
   ]
  },
  {
   "cell_type": "code",
   "execution_count": null,
   "metadata": {
    "scrolled": true
   },
   "outputs": [],
   "source": [
    "data_merged = trade_uk_data.merge(ef_score, on='Partner' , how='inner')"
   ]
  },
  {
   "cell_type": "code",
   "execution_count": null,
   "metadata": {},
   "outputs": [],
   "source": [
    "data_merged_int = data_merged.merge(internet_access, left_on='PAR_year', right_on='COU_year', how='inner')"
   ]
  },
  {
   "cell_type": "code",
   "execution_count": null,
   "metadata": {},
   "outputs": [],
   "source": [
    "data_merged_wage = data_merged_int.merge(average_wages, left_on='PAR_year', right_on='COU_year', how='inner')"
   ]
  },
  {
   "cell_type": "code",
   "execution_count": null,
   "metadata": {},
   "outputs": [],
   "source": [
    "data_merged_tz = data_merged_wage.merge(tz_data, left_on='PAR', right_on='COU', how = 'inner')"
   ]
  },
  {
   "cell_type": "code",
   "execution_count": null,
   "metadata": {},
   "outputs": [],
   "source": [
    "#clean results\n",
    "clean_data = data_merged_tz[['COU_x','Country_x', 'PAR', 'Partner','year_x', 'service_trade','internet_access', 'average_wages', 'ef_score', 'tz']]\n",
    "clean_data = clean_data[clean_data['PAR'] != 'OTO']\n",
    "clean_data = clean_data[clean_data['PAR'] != 'WLD']\n",
    "clean_data = clean_data[clean_data['PAR'] != 'EUROP']\n",
    "clean_data = clean_data[clean_data['PAR'] != 'AMERI']\n",
    "clean_data = clean_data[clean_data['PAR'] != 'NAT']\n",
    "clean_data = clean_data[clean_data['PAR'] != 'AMERI']\n",
    "clean_data = clean_data[clean_data['PAR'] != 'NMEC']\n",
    "clean_data = clean_data[clean_data['PAR'] != 'EU28']\n",
    "clean_data = clean_data[clean_data['PAR'] != 'ASIOC']\n",
    "clean_data = clean_data[clean_data['PAR'] != 'EA19']\n",
    "clean_data = clean_data[clean_data['PAR'] != 'ASIOC']\n",
    "clean_data = clean_data[clean_data['PAR'] != 'ASIAT']\n",
    "clean_data = clean_data[clean_data['PAR'] != 'ASME']\n",
    "clean_data = clean_data[clean_data['PAR'] != 'GULF']\n",
    "clean_data = clean_data[clean_data['PAR'] != 'AFRIC']\n",
    "clean_data = clean_data[clean_data['PAR'] != 'OCEAN']\n",
    "clean_data = clean_data[clean_data['PAR'] != 'B3X']\n",
    "clean_data = clean_data[clean_data['PAR'] != 'XCF']\n",
    "clean_data = clean_data[clean_data['PAR'] != '7ZX']"
   ]
  },
  {
   "cell_type": "code",
   "execution_count": null,
   "metadata": {
    "scrolled": false
   },
   "outputs": [],
   "source": [
    "clean_data.to_excel('control_view.xlsx')"
   ]
  },
  {
   "cell_type": "code",
   "execution_count": null,
   "metadata": {},
   "outputs": [],
   "source": [
    "y = clean_data['service_trade']\n",
    "\n",
    "x = clean_data[['internet_access', 'average_wages', 'tz', 'ef_score']]\n",
    "#x = clean_data['ef_score']"
   ]
  },
  {
   "cell_type": "markdown",
   "metadata": {},
   "source": [
    "#'To show a scatter plot of one variable the x has to be changed in the previous line.\n",
    "\n",
    "fig = sns.regplot(x, y, x_jitter=0.6, line_kws={\"color\": \"red\"})\n",
    "plt.savefig('single_regression.png', dpi=300)"
   ]
  },
  {
   "cell_type": "code",
   "execution_count": null,
   "metadata": {},
   "outputs": [],
   "source": [
    "x = sm.add_constant(x)\n",
    "model = sm.OLS(y, x, missing='drop')\n",
    "results = model.fit()"
   ]
  },
  {
   "cell_type": "code",
   "execution_count": null,
   "metadata": {
    "scrolled": true
   },
   "outputs": [],
   "source": [
    "print(results.summary())"
   ]
  },
  {
   "cell_type": "code",
   "execution_count": null,
   "metadata": {
    "scrolled": true
   },
   "outputs": [],
   "source": [
    "fig = plt.figure(figsize=(12,8))\n",
    "fig = sm.graphics.plot_partregress_grid(results, fig=fig)"
   ]
  },
  {
   "cell_type": "code",
   "execution_count": null,
   "metadata": {},
   "outputs": [],
   "source": [
    "fig.savefig('single_regression.png', dpi=300)"
   ]
  }
 ],
 "metadata": {
  "kernelspec": {
   "display_name": "Python 3",
   "language": "python",
   "name": "python3"
  },
  "language_info": {
   "codemirror_mode": {
    "name": "ipython",
    "version": 3
   },
   "file_extension": ".py",
   "mimetype": "text/x-python",
   "name": "python",
   "nbconvert_exporter": "python",
   "pygments_lexer": "ipython3",
   "version": "3.7.6"
  }
 },
 "nbformat": 4,
 "nbformat_minor": 4
}
